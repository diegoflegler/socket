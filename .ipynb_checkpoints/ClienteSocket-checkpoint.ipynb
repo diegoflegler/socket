{
 "cells": [
  {
   "cell_type": "markdown",
   "metadata": {},
   "source": [
    "# Cliente"
   ]
  },
  {
   "cell_type": "code",
   "execution_count": null,
   "metadata": {},
   "outputs": [],
   "source": [
    "import socket"
   ]
  },
  {
   "cell_type": "code",
   "execution_count": null,
   "metadata": {},
   "outputs": [],
   "source": [
    "def cliente(host = 'localhost', port = 8082): \n",
    "    \n",
    "    # Socket TCP/IP\n",
    "    soquete = socket.socket(socket.AF_INET, socket.SOCK_STREAM) \n",
    "    servidor = (host, port) \n",
    "    \n",
    "    print(\"Conectando a %s porta %s\" % servidor) \n",
    "    soquete.connect(servidor) \n",
    "    \n",
    "    print(\"Algoritmo 1 \\n\")\n",
    "    \n",
    "    CHAVE_ENCRIPTAR = 9\n",
    "    \n",
    "    while True:\n",
    "        try: \n",
    "            mensagem = input('Digite sua mensagem: ')\n",
    "            \n",
    "            mensagem_criptografada = encriptador(mensagem, CHAVE_ENCRIPTAR)\n",
    "\n",
    "            print('Enviando: %s' % mensagem_criptografada)\n",
    "            soquete.sendall(mensagem_criptografada.encode('utf-8'))\n",
    "\n",
    "            recebido = 0 \n",
    "            esperado = len(mensagem) \n",
    "\n",
    "            while recebido < esperado: \n",
    "                resposta = soquete.recv(1600).decode('utf-8') \n",
    "                recebido += len(resposta)\n",
    "                \n",
    "                print('Recebido: %s' % resposta)\n",
    "                                  \n",
    "                print('%s = %s? %s' % (mensagem, resposta, ('SIM' if mensagem == resposta else 'NÃO')))\n",
    "\n",
    "        except soquete.error as e: \n",
    "            print(\"Socket error: %s\" % str(e))\n",
    "\n",
    "        except Exception as e: \n",
    "            print(\"Other exception: %s\" % str(e)) "
   ]
  },
  {
   "cell_type": "code",
   "execution_count": null,
   "metadata": {},
   "outputs": [],
   "source": [
    "def encriptador(mensagem, chave):\n",
    "    nova_mensagem = []\n",
    "            \n",
    "    for i in range(len(mensagem)):\n",
    "        char = mensagem[i]\n",
    "        nova_mensagem.append(chr((ord(char) + chave - 32) % 95 + 32))\n",
    "\n",
    "    nova_mensagem = ''.join(nova_mensagem)\n",
    "    \n",
    "    return nova_mensagem"
   ]
  },
  {
   "cell_type": "code",
   "execution_count": null,
   "metadata": {},
   "outputs": [],
   "source": [
    "# Inicia o Cliente\n",
    "cliente()"
   ]
  },
  {
   "cell_type": "code",
   "execution_count": null,
   "metadata": {},
   "outputs": [],
   "source": []
  },
  {
   "cell_type": "code",
   "execution_count": null,
   "metadata": {},
   "outputs": [],
   "source": []
  }
 ],
 "metadata": {
  "kernelspec": {
   "display_name": "Python 3",
   "language": "python",
   "name": "python3"
  },
  "language_info": {
   "codemirror_mode": {
    "name": "ipython",
    "version": 3
   },
   "file_extension": ".py",
   "mimetype": "text/x-python",
   "name": "python",
   "nbconvert_exporter": "python",
   "pygments_lexer": "ipython3",
   "version": "3.7.6"
  }
 },
 "nbformat": 4,
 "nbformat_minor": 4
}
