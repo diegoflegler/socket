{
 "cells": [
  {
   "cell_type": "code",
   "execution_count": 1,
   "metadata": {},
   "outputs": [
    {
     "ename": "NameError",
     "evalue": "name 'server_address' is not defined",
     "output_type": "error",
     "traceback": [
      "\u001b[1;31m---------------------------------------------------------------------------\u001b[0m",
      "\u001b[1;31mNameError\u001b[0m                                 Traceback (most recent call last)",
      "\u001b[1;32m<ipython-input-1-23d8463aa835>\u001b[0m in \u001b[0;36m<module>\u001b[1;34m\u001b[0m\n\u001b[0;32m     45\u001b[0m             \u001b[0msoquete\u001b[0m\u001b[1;33m.\u001b[0m\u001b[0mclose\u001b[0m\u001b[1;33m(\u001b[0m\u001b[1;33m)\u001b[0m\u001b[1;33m\u001b[0m\u001b[1;33m\u001b[0m\u001b[0m\n\u001b[0;32m     46\u001b[0m \u001b[1;33m\u001b[0m\u001b[0m\n\u001b[1;32m---> 47\u001b[1;33m \u001b[0mcliente\u001b[0m\u001b[1;33m(\u001b[0m\u001b[1;33m)\u001b[0m\u001b[1;33m\u001b[0m\u001b[1;33m\u001b[0m\u001b[0m\n\u001b[0m",
      "\u001b[1;32m<ipython-input-1-23d8463aa835>\u001b[0m in \u001b[0;36mcliente\u001b[1;34m(host, port)\u001b[0m\n\u001b[0;32m      9\u001b[0m     \u001b[0mservidor\u001b[0m \u001b[1;33m=\u001b[0m \u001b[1;33m(\u001b[0m\u001b[0mhost\u001b[0m\u001b[1;33m,\u001b[0m \u001b[0mport\u001b[0m\u001b[1;33m)\u001b[0m\u001b[1;33m\u001b[0m\u001b[1;33m\u001b[0m\u001b[0m\n\u001b[0;32m     10\u001b[0m \u001b[1;33m\u001b[0m\u001b[0m\n\u001b[1;32m---> 11\u001b[1;33m     \u001b[0mprint\u001b[0m\u001b[1;33m(\u001b[0m\u001b[1;34m\"Conectando a %s porta %s\"\u001b[0m \u001b[1;33m%\u001b[0m \u001b[0mserver_address\u001b[0m\u001b[1;33m)\u001b[0m\u001b[1;33m\u001b[0m\u001b[1;33m\u001b[0m\u001b[0m\n\u001b[0m\u001b[0;32m     12\u001b[0m     \u001b[0msoquete\u001b[0m\u001b[1;33m.\u001b[0m\u001b[0mconnect\u001b[0m\u001b[1;33m(\u001b[0m\u001b[0mservidor\u001b[0m\u001b[1;33m)\u001b[0m\u001b[1;33m\u001b[0m\u001b[1;33m\u001b[0m\u001b[0m\n\u001b[0;32m     13\u001b[0m \u001b[1;33m\u001b[0m\u001b[0m\n",
      "\u001b[1;31mNameError\u001b[0m: name 'server_address' is not defined"
     ]
    }
   ],
   "source": [
    "import socket\n",
    "\n",
    "def cliente(host = 'localhost', port=8082): \n",
    "    \n",
    "    # Socket TCP/IP\n",
    "    soquete = socket.socket(socket.AF_INET, socket.SOCK_STREAM) \n",
    "    \n",
    "    # Servidor\n",
    "    servidor = (host, port) \n",
    "    \n",
    "    print(\"Conectando a %s porta %s\" % servidor) \n",
    "    soquete.connect(servidor) \n",
    "    \n",
    "    print(\"Algoritmo 1\")\n",
    "    \n",
    "    continuar = True\n",
    "    while continuar:\n",
    "    \n",
    "        # Send data \n",
    "        try: \n",
    "\n",
    "            # Send data \n",
    "            message = input('Digite sua mensagem: ')\n",
    "\n",
    "            print(\"Enviando %s\" % message) \n",
    "            soquete.sendall(message.encode('utf-8')) \n",
    "\n",
    "            # Look for the response \n",
    "            amount_received = 0 \n",
    "            amount_expected = len(message) \n",
    "\n",
    "            while amount_received < amount_expected: \n",
    "                data = soquete.recv(16) \n",
    "                amount_received += len(data) \n",
    "                print (\"Received: %s\" % data) \n",
    "\n",
    "        except soquete.error as e: \n",
    "            print (\"Socket error: %s\" %str(e)) \n",
    "\n",
    "        except Exception as e: \n",
    "            print (\"Other exception: %s\" %str(e)) \n",
    "    \n",
    "        finally: \n",
    "            print (\"Digite S\") \n",
    "            soquete.close() \n",
    "\n",
    "cliente()"
   ]
  },
  {
   "cell_type": "code",
   "execution_count": null,
   "metadata": {},
   "outputs": [],
   "source": []
  },
  {
   "cell_type": "code",
   "execution_count": null,
   "metadata": {},
   "outputs": [],
   "source": []
  },
  {
   "cell_type": "code",
   "execution_count": null,
   "metadata": {},
   "outputs": [],
   "source": []
  },
  {
   "cell_type": "code",
   "execution_count": null,
   "metadata": {},
   "outputs": [],
   "source": []
  },
  {
   "cell_type": "code",
   "execution_count": null,
   "metadata": {},
   "outputs": [],
   "source": []
  }
 ],
 "metadata": {
  "kernelspec": {
   "display_name": "Python 3",
   "language": "python",
   "name": "python3"
  },
  "language_info": {
   "codemirror_mode": {
    "name": "ipython",
    "version": 3
   },
   "file_extension": ".py",
   "mimetype": "text/x-python",
   "name": "python",
   "nbconvert_exporter": "python",
   "pygments_lexer": "ipython3",
   "version": "3.7.6"
  }
 },
 "nbformat": 4,
 "nbformat_minor": 4
}
