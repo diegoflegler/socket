{
 "cells": [
  {
   "cell_type": "markdown",
   "metadata": {},
   "source": [
    "# Servidor"
   ]
  },
  {
   "cell_type": "code",
   "execution_count": null,
   "metadata": {},
   "outputs": [],
   "source": [
    "import socket"
   ]
  },
  {
   "cell_type": "code",
   "execution_count": null,
   "metadata": {},
   "outputs": [],
   "source": [
    "def servidor(host = 'localhost', port = 8082):\n",
    "    \n",
    "    data_payload = 2048\n",
    "    \n",
    "    # Socket TCP\n",
    "    soquete = socket.socket(socket.AF_INET,  socket.SOCK_STREAM)\n",
    "    \n",
    "    soquete.setsockopt(socket.SOL_SOCKET, socket.SO_REUSEADDR, 1)\n",
    "    \n",
    "    servidor = (host, port)\n",
    "    \n",
    "    print (\"Servidor iniciado em %s porta %s \\n\" % servidor)\n",
    "    soquete.bind(servidor)\n",
    "    \n",
    "    soquete.listen(5) \n",
    "    \n",
    "    cliente, endereco = soquete.accept()\n",
    "    \n",
    "    CHAVE_DESCRIPTAR = -9\n",
    "    \n",
    "    while True:\n",
    "        print(\"Aguardando mensagem do cliente %s ...\" % str(endereco))\n",
    "        \n",
    "        mensagem = cliente.recv(data_payload).decode('utf-8')\n",
    "        \n",
    "        if mensagem:\n",
    "            print(\"Recebido: %s\" % mensagem)\n",
    "            \n",
    "            mensagem_descriptografada = descriptador(mensagem, CHAVE_DESCRIPTAR)           \n",
    "            print('Descriptografada: %s' % mensagem_descriptografada) \n",
    "                        \n",
    "            print('Enviando: %s \\n' % mensagem_descriptografada) \n",
    "            cliente.send(mensagem_descriptografada.encode('utf-8'))\n",
    "                               "
   ]
  },
  {
   "cell_type": "code",
   "execution_count": null,
   "metadata": {},
   "outputs": [],
   "source": [
    "def descriptador(mensagem, chave):\n",
    "    nova_mensagem = []\n",
    "            \n",
    "    for i in range(len(mensagem)):\n",
    "        char = mensagem[i]\n",
    "        nova_mensagem.append(chr((ord(char) + chave - 32) % 95 + 32))\n",
    "\n",
    "    nova_mensagem = ''.join(nova_mensagem)\n",
    "    \n",
    "    return nova_mensagem"
   ]
  },
  {
   "cell_type": "code",
   "execution_count": null,
   "metadata": {},
   "outputs": [],
   "source": [
    "# Inicia o Servidor\n",
    "servidor()"
   ]
  },
  {
   "cell_type": "code",
   "execution_count": null,
   "metadata": {},
   "outputs": [],
   "source": []
  }
 ],
 "metadata": {
  "kernelspec": {
   "display_name": "Python 3",
   "language": "python",
   "name": "python3"
  },
  "language_info": {
   "codemirror_mode": {
    "name": "ipython",
    "version": 3
   },
   "file_extension": ".py",
   "mimetype": "text/x-python",
   "name": "python",
   "nbconvert_exporter": "python",
   "pygments_lexer": "ipython3",
   "version": "3.7.6"
  }
 },
 "nbformat": 4,
 "nbformat_minor": 4
}
